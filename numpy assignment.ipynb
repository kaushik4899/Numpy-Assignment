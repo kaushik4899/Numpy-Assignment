{
 "cells": [
  {
   "cell_type": "code",
   "execution_count": 1,
   "id": "537b1ce3",
   "metadata": {},
   "outputs": [
    {
     "name": "stdout",
     "output_type": "stream",
     "text": [
      "[ 0.  0.  0.  0. 19.  0.  0.  0.  0.  0.]\n"
     ]
    }
   ],
   "source": [
    "#1. Create a null vector of size 10 but the fifth value which is 1.\n",
    "import numpy as np\n",
    "\n",
    "Z=np.zeros(10)\n",
    "Z[4]=19\n",
    "print(Z)"
   ]
  },
  {
   "cell_type": "code",
   "execution_count": 3,
   "id": "b46f9550",
   "metadata": {},
   "outputs": [
    {
     "name": "stdout",
     "output_type": "stream",
     "text": [
      "[10 11 12 13 14 15 16 17 18 19 20 21 22 23 24 25 26 27 28 29 30 31 32 33\n",
      " 34 35 36 37 38 39 40 41 42 43 44 45 46 47 48 49]\n"
     ]
    }
   ],
   "source": [
    "#2. Create a vector with values ranging from 10 to 49.\n",
    "Z=np.arange(10,50)\n",
    "print(Z)\n"
   ]
  },
  {
   "cell_type": "code",
   "execution_count": 4,
   "id": "3ddcc6eb",
   "metadata": {},
   "outputs": [
    {
     "name": "stdout",
     "output_type": "stream",
     "text": [
      "[[0 1 2]\n",
      " [3 4 5]\n",
      " [6 7 8]]\n"
     ]
    }
   ],
   "source": [
    "#3. Create a 3x3 matrix with values ranging from 0 to 8\n",
    "Z=np.arange(9).reshape(3,3)\n",
    "print(Z)"
   ]
  },
  {
   "cell_type": "code",
   "execution_count": 6,
   "id": "5f2bee79",
   "metadata": {},
   "outputs": [
    {
     "name": "stdout",
     "output_type": "stream",
     "text": [
      "(array([0, 1, 4], dtype=int64),)\n"
     ]
    }
   ],
   "source": [
    "#4. Find indices of non-zero elements from [1,2,0,0,4,0]\n",
    "Inz=np.nonzero([1,2,0,0,4,0])\n",
    "print(Inz)"
   ]
  },
  {
   "cell_type": "code",
   "execution_count": 3,
   "id": "0f3354cf",
   "metadata": {},
   "outputs": [
    {
     "name": "stdout",
     "output_type": "stream",
     "text": [
      "0.007372338476787754 0.9926120878201509\n"
     ]
    }
   ],
   "source": [
    "#5. Create a 10x10 array with random values and find the minimum and maximum values.\n",
    "import numpy as np\n",
    "Z=np.random.random((10,10))\n",
    "Zmin,Zmax=Z.min(),Z.max()\n",
    "print(Zmin,Zmax)\n"
   ]
  },
  {
   "cell_type": "code",
   "execution_count": 4,
   "id": "546a0fc7",
   "metadata": {},
   "outputs": [
    {
     "name": "stdout",
     "output_type": "stream",
     "text": [
      "0.5178202111658118\n"
     ]
    }
   ],
   "source": [
    "#6. Create a random vector of size 30 and find the mean value.\n",
    "Z= np.random.random(30)\n",
    "me=Z.mean()\n",
    "print(me)"
   ]
  },
  {
   "cell_type": "code",
   "execution_count": null,
   "id": "be23ca35",
   "metadata": {},
   "outputs": [],
   "source": []
  },
  {
   "cell_type": "code",
   "execution_count": null,
   "id": "5be22123",
   "metadata": {},
   "outputs": [],
   "source": []
  }
 ],
 "metadata": {
  "kernelspec": {
   "display_name": "Python 3 (ipykernel)",
   "language": "python",
   "name": "python3"
  },
  "language_info": {
   "codemirror_mode": {
    "name": "ipython",
    "version": 3
   },
   "file_extension": ".py",
   "mimetype": "text/x-python",
   "name": "python",
   "nbconvert_exporter": "python",
   "pygments_lexer": "ipython3",
   "version": "3.9.12"
  }
 },
 "nbformat": 4,
 "nbformat_minor": 5
}
